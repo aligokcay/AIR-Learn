{
 "cells": [
  {
   "cell_type": "code",
   "execution_count": 13,
   "id": "d7dc37fe-8f25-4d98-8b7d-c7e422c527b0",
   "metadata": {},
   "outputs": [],
   "source": [
    "import pandas as pd\n",
    "import numpy as np\n",
    "import seaborn as sns"
   ]
  },
  {
   "cell_type": "code",
   "execution_count": 14,
   "metadata": {},
   "outputs": [],
   "source": [
    "df = sns.load_dataset('planets')"
   ]
  },
  {
   "cell_type": "markdown",
   "metadata": {},
   "source": [
    "### Print/ Display the first 5 rows of dataframe"
   ]
  },
  {
   "cell_type": "code",
   "execution_count": 15,
   "id": "f57c2abf-fa5a-4b72-953f-3e63422dcdde",
   "metadata": {},
   "outputs": [
    {
     "name": "stdout",
     "output_type": "stream",
     "text": [
      "            method  number  orbital_period   mass  distance  year\n",
      "0  Radial Velocity       1         269.300   7.10     77.40  2006\n",
      "1  Radial Velocity       1         874.774   2.21     56.95  2008\n",
      "2  Radial Velocity       1         763.000   2.60     19.84  2011\n",
      "3  Radial Velocity       1         326.030  19.40    110.62  2007\n",
      "4  Radial Velocity       1         516.220  10.50    119.47  2009\n"
     ]
    }
   ],
   "source": [
    "import pandas as pd\n",
    "import seaborn as sns\n",
    "\n",
    "df = sns.load_dataset('planets')\n",
    "\n",
    "print(df.head())\n"
   ]
  },
  {
   "cell_type": "markdown",
   "metadata": {},
   "source": [
    "### Print/ Display the last 5 rows of dataframe"
   ]
  },
  {
   "cell_type": "code",
   "execution_count": 16,
   "id": "4c27adad-ccd9-4871-8d81-dcc11c742dae",
   "metadata": {},
   "outputs": [
    {
     "name": "stdout",
     "output_type": "stream",
     "text": [
      "       method  number  orbital_period  mass  distance  year\n",
      "1030  Transit       1        3.941507   NaN     172.0  2006\n",
      "1031  Transit       1        2.615864   NaN     148.0  2007\n",
      "1032  Transit       1        3.191524   NaN     174.0  2007\n",
      "1033  Transit       1        4.125083   NaN     293.0  2008\n",
      "1034  Transit       1        4.187757   NaN     260.0  2008\n"
     ]
    }
   ],
   "source": [
    "import pandas as pd\n",
    "import seaborn as sns\n",
    "\n",
    "df = sns.load_dataset('planets')\n",
    "\n",
    "print(df.tail())\n"
   ]
  },
  {
   "cell_type": "markdown",
   "metadata": {},
   "source": [
    "### How many unique methods are there?"
   ]
  },
  {
   "cell_type": "code",
   "execution_count": 17,
   "metadata": {},
   "outputs": [
    {
     "name": "stdout",
     "output_type": "stream",
     "text": [
      "Toplam dataframe unique metodu sayisi: 444\n"
     ]
    }
   ],
   "source": [
    "import pandas as pd\n",
    "\n",
    "df = sns.load_dataset('planets')\n",
    "\n",
    "methods = dir(sns.load_dataset('planets'))\n",
    "\n",
    "print(\"Toplam dataframe unique metodu sayisi:\", len(methods))"
   ]
  },
  {
   "cell_type": "markdown",
   "metadata": {},
   "source": [
    "### What is the number of data collected in each year?"
   ]
  },
  {
   "cell_type": "code",
   "execution_count": 18,
   "metadata": {},
   "outputs": [
    {
     "name": "stdout",
     "output_type": "stream",
     "text": [
      "year\n",
      "1989      1\n",
      "1992      2\n",
      "1994      1\n",
      "1995      1\n",
      "1996      6\n",
      "1997      1\n",
      "1998      5\n",
      "1999     15\n",
      "2000     16\n",
      "2001     12\n",
      "2002     32\n",
      "2003     25\n",
      "2004     26\n",
      "2005     39\n",
      "2006     31\n",
      "2007     53\n",
      "2008     74\n",
      "2009     98\n",
      "2010    102\n",
      "2011    185\n",
      "2012    140\n",
      "2013    118\n",
      "2014     52\n",
      "dtype: int64\n"
     ]
    }
   ],
   "source": [
    "import pandas as pd\n",
    "import seaborn as sns\n",
    "\n",
    "df = sns.load_dataset('planets')\n",
    "\n",
    "yearlyCounts = df.groupby('year').size()\n",
    "\n",
    "print(yearlyCounts)"
   ]
  },
  {
   "cell_type": "markdown",
   "metadata": {},
   "source": [
    "### Which columns have missing values and how many?"
   ]
  },
  {
   "cell_type": "code",
   "execution_count": 19,
   "metadata": {},
   "outputs": [
    {
     "name": "stdout",
     "output_type": "stream",
     "text": [
      "Eksik değerleri olan sütunlar ve sayıları:\n",
      "orbital_period     43\n",
      "mass              522\n",
      "distance          227\n",
      "dtype: int64\n"
     ]
    }
   ],
   "source": [
    "missingValues = df.isnull().sum()\n",
    "\n",
    "print(\"Eksik değerleri olan sütunlar ve sayıları:\")\n",
    "print(missingValues[missingValues > 0])\n"
   ]
  },
  {
   "cell_type": "markdown",
   "metadata": {},
   "source": [
    "### Write docstring for the function below and Call do_something function for the (11,13,15) values and save it as result."
   ]
  },
  {
   "cell_type": "code",
   "execution_count": 20,
   "metadata": {},
   "outputs": [
    {
     "name": "stdout",
     "output_type": "stream",
     "text": [
      "4.26441351888668\n"
     ]
    }
   ],
   "source": [
    "# Docstring (documentation string): Fonksiyonu açıklarız\n",
    "\n",
    "\n",
    "def do_something(x, y, z):\n",
    "    \"\"\"\n",
    "    Calculates the reciprocal sum of three numbers.\n",
    "\n",
    "    Parameters:\n",
    "    - x (float): The first number.\n",
    "    - y (float): The second number.\n",
    "    - z (float): The third number.\n",
    "\n",
    "    Returns:\n",
    "    float: The reciprocal sum of the three numbers.\n",
    "    \"\"\"\n",
    "    result = 1 / x + 1 / y + 1 / z\n",
    "    return 1 / result\n",
    "\n",
    "\n",
    "result = do_something(11,13,15)\n",
    "print(result)"
   ]
  },
  {
   "cell_type": "markdown",
   "metadata": {},
   "source": [
    "### Get (print) the docstring of the function defined above."
   ]
  },
  {
   "cell_type": "code",
   "execution_count": 21,
   "metadata": {},
   "outputs": [
    {
     "name": "stdout",
     "output_type": "stream",
     "text": [
      "\n",
      "    Calculates the reciprocal sum of three numbers.\n",
      "\n",
      "    Parameters:\n",
      "    - x (float): The first number.\n",
      "    - y (float): The second number.\n",
      "    - z (float): The third number.\n",
      "\n",
      "    Returns:\n",
      "    float: The reciprocal sum of the three numbers.\n",
      "    \n"
     ]
    }
   ],
   "source": [
    "def do_something(x, y, z):\n",
    "    \"\"\"\n",
    "    Calculates the reciprocal sum of three numbers.\n",
    "\n",
    "    Parameters:\n",
    "    - x (float): The first number.\n",
    "    - y (float): The second number.\n",
    "    - z (float): The third number.\n",
    "\n",
    "    Returns:\n",
    "    float: The reciprocal sum of the three numbers.\n",
    "    \"\"\"\n",
    "    result = 1 / x + 1 / y + 1 / z\n",
    "    return 1 / result\n",
    "\n",
    "\n",
    "print(do_something.__doc__)\n"
   ]
  },
  {
   "cell_type": "markdown",
   "metadata": {},
   "source": [
    "### In the variable 's' containing a sentence, extract the word using result defined above as index"
   ]
  },
  {
   "cell_type": "code",
   "execution_count": 24,
   "metadata": {},
   "outputs": [
    {
     "name": "stdout",
     "output_type": "stream",
     "text": [
      "4.26441351888668 and\n"
     ]
    }
   ],
   "source": [
    "def do_something(x, y, z):\n",
    "\n",
    "    result = 1 / x + 1 / y + 1 / z\n",
    "    return 1 / result\n",
    "\n",
    "result = do_something(11, 13, 15)\n",
    "\n",
    "s = \"I love Machine Learning and Deep Learning\"\n",
    "index_as_int = int(result)\n",
    "word = s.split()[index_as_int]\n",
    "\n",
    "print(result, word)"
   ]
  },
  {
   "cell_type": "markdown",
   "metadata": {},
   "source": [
    "### Sort the given array below, do not use built in functions. All sorting methods are allowed."
   ]
  },
  {
   "cell_type": "code",
   "execution_count": 10,
   "metadata": {},
   "outputs": [],
   "source": [
    "import random\n",
    "\n",
    "arr = [random.randint(1, 100) for _ in range(10)]\n",
    "print(\"Original Array:\", arr)\n",
    "\n",
    "def selection_sort(arr):\n",
    "    n = len(arr)\n",
    "\n",
    "    for i in range(n-1):\n",
    "        min = i\n",
    "        for j in range(i+1, n):\n",
    "            if arr[j] < arr[min]:\n",
    "                min = j\n",
    "\n",
    "        arr[i], arr[min] = arr[min], arr[i]\n",
    "\n",
    "\n",
    "selection_sort(arr)\n",
    "\n",
    "print(\"Sorted Array:\", arr)\n"
   ]
  },
  {
   "cell_type": "markdown",
   "metadata": {},
   "source": [
    "### define a recursive function to calculate input numbers factorial named factorial"
   ]
  },
  {
   "cell_type": "code",
   "execution_count": 26,
   "metadata": {},
   "outputs": [
    {
     "name": "stdout",
     "output_type": "stream",
     "text": [
      "1\n",
      "2\n",
      "3\n",
      "4\n",
      "5\n",
      "The factorial of 5 is: 120\n"
     ]
    }
   ],
   "source": [
    "def factorial(n):\n",
    "    result = 1\n",
    "    for i in range(1, n+1):   # n+1 dahil edilmez\n",
    "        result *= i\n",
    "        print(i)\n",
    "    return result\n",
    "\n",
    "\n",
    "result = factorial(5)\n",
    "print(f\"The factorial of {5} is: {result}\")"
   ]
  },
  {
   "cell_type": "markdown",
   "metadata": {},
   "source": [
    "### define a function to merge the given arrays and calculate the median named twoMedian"
   ]
  },
  {
   "cell_type": "code",
   "execution_count": 25,
   "metadata": {},
   "outputs": [],
   "source": [
    "def twoMedian(arr1, arr2):\n",
    "    merged_array = arr1 + arr2\n",
    "\n",
    "    merged_array.sort()\n",
    "\n",
    "    n = len(merged_array)\n",
    "    if n % 2 == 0:\n",
    "        mid1 = merged_array[n // 2 - 1]\n",
    "        mid2 = merged_array[n // 2]\n",
    "        median = (mid1 + mid2) / 2\n",
    "    else:\n",
    "        median = merged_array[n // 2]\n",
    "\n",
    "    return median\n"
   ]
  }
 ],
 "metadata": {
  "kernelspec": {
   "display_name": "Python 3 (ipykernel)",
   "language": "python",
   "name": "python3"
  },
  "language_info": {
   "codemirror_mode": {
    "name": "ipython",
    "version": 3
   },
   "file_extension": ".py",
   "mimetype": "text/x-python",
   "name": "python",
   "nbconvert_exporter": "python",
   "pygments_lexer": "ipython3",
   "version": "3.12.0"
  }
 },
 "nbformat": 4,
 "nbformat_minor": 5
}
